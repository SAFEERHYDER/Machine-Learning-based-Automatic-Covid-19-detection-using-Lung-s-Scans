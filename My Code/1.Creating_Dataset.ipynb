{
 "cells": [
  {
   "cell_type": "markdown",
   "metadata": {},
   "source": [
    "# Dataset\n",
    "\n",
    "928 Covid-19 Positive images\n",
    "397 Covid-19 Negative images\n",
    "\n",
    "## Credits and Links\n",
    "\n",
    "1. [Covid Chest X Ray Dataset](https://github.com/ieee8023/covid-chestxray-dataset)\n",
    "2. [COVID-CT](https://github.com/UCSD-AI4H/COVID-CT)"
   ]
  },
  {
   "cell_type": "code",
   "execution_count": 1,
   "metadata": {},
   "outputs": [
    {
     "name": "stdout",
     "output_type": "stream",
     "text": [
      "['Covid19 Negative', 'Covid19 Positive']\n",
      "0      Pneumonia/Viral/COVID-19\n",
      "1      Pneumonia/Viral/COVID-19\n",
      "2      Pneumonia/Viral/COVID-19\n",
      "3      Pneumonia/Viral/COVID-19\n",
      "4      Pneumonia/Viral/COVID-19\n",
      "                 ...           \n",
      "945                   Pneumonia\n",
      "946                   Pneumonia\n",
      "947                   Pneumonia\n",
      "948                   Pneumonia\n",
      "949                   Pneumonia\n",
      "Name: finding, Length: 950, dtype: object\n"
     ]
    }
   ],
   "source": [
    "import pandas as pd\n",
    "import os\n",
    "import numpy as np\n",
    "import shutil\n",
    "\n",
    "datapath1='covid-chestxray-dataset-master'\n",
    "dataset_path='dataset'\n",
    "\n",
    "categories=os.listdir(dataset_path)\n",
    "print(categories)\n",
    "\n",
    "dataset=pd.read_csv(os.path.join(datapath1,'metadata.csv'))\n",
    "findings=dataset['finding']\n",
    "image_names=dataset['filename']\n",
    "\n",
    "print(findings)"
   ]
  },
  {
   "cell_type": "code",
   "execution_count": 2,
   "metadata": {},
   "outputs": [],
   "source": [
    "positives_index=np.concatenate((np.where(findings=='Pneumonia/Viral/COVID-19')[0],np.where(findings=='Pneumonia/Viral/SARS')[0]))\n",
    "positive_image_names=image_names[positives_index]"
   ]
  },
  {
   "cell_type": "code",
   "execution_count": 9,
   "metadata": {},
   "outputs": [],
   "source": [
    "import cv2\n",
    "images = 0\n",
    "for positive_image_name in positive_image_names:\n",
    "    image=cv2.imread(os.path.join(datapath1,'images',positive_image_name))\n",
    "    try:\n",
    "        cv2.imwrite(os.path.join(dataset_path,categories[1],positive_image_name),image)\n",
    "        images = images + 1\n",
    "    except Exception as e:\n",
    "        pass\n"
   ]
  },
  {
   "cell_type": "code",
   "execution_count": 13,
   "metadata": {},
   "outputs": [
    {
     "name": "stdout",
     "output_type": "stream",
     "text": [
      "Covid+V:  579\n"
     ]
    }
   ],
   "source": [
    "print('Covid+V: ',images)\n"
   ]
  },
  {
   "cell_type": "code",
   "execution_count": 53,
   "metadata": {},
   "outputs": [],
   "source": [
    "if not os.path.exists('dataset\\CT_COVID'):\n",
    "    os.makedirs('dataset\\CT_COVID')\n",
    "if not os.path.exists('dataset\\CT_NonCOVID'):\n",
    "    os.makedirs('dataset\\CT_NonCOVID')"
   ]
  },
  {
   "cell_type": "code",
   "execution_count": 56,
   "metadata": {},
   "outputs": [
    {
     "name": "stdout",
     "output_type": "stream",
     "text": [
      "CT_COVID_files 349\n",
      "CT_NonCOVID_files 397\n"
     ]
    }
   ],
   "source": [
    "# Copy files from one path to another path\n",
    "\n",
    "datapath2 = 'COVID-CT-master'\n",
    "CT_COVID = os.path.join(datapath2,'Images-processed\\CT_COVID')\n",
    "CT_NonCOVID = os.path.join(datapath2,'Images-processed\\CT_NonCOVID')\n",
    "\n",
    "import os\n",
    "import shutil\n",
    "\n",
    "src_files = os.listdir(CT_COVID)\n",
    "CT_COVID_files = 0\n",
    "for file_name in src_files:\n",
    "    full_file_name = os.path.join(CT_COVID, file_name)\n",
    "    \n",
    "    if os.path.isfile(full_file_name):\n",
    "        CT_COVID_files = CT_COVID_files + 1\n",
    "        shutil.copy(full_file_name, os.path.join(dataset_path, 'CT_COVID'))\n",
    "        \n",
    "print(f'CT_COVID_files {CT_COVID_files}')\n",
    "src_files = os.listdir(CT_NonCOVID)\n",
    "CT_NonCOVID_files = 0\n",
    "for file_name in src_files:\n",
    "    full_file_name = os.path.join(CT_NonCOVID, file_name)\n",
    "    \n",
    "    if os.path.isfile(full_file_name):\n",
    "        \n",
    "        shutil.copy(full_file_name, os.path.join(dataset_path, 'CT_NonCOVID'))\n",
    "        CT_NonCOVID_files = CT_NonCOVID_files + 1\n",
    "print(f'CT_NonCOVID_files {CT_NonCOVID_files}')"
   ]
  },
  {
   "cell_type": "code",
   "execution_count": 2,
   "metadata": {},
   "outputs": [
    {
     "name": "stdout",
     "output_type": "stream",
     "text": [
      "CT_COVID_files 349\n"
     ]
    }
   ],
   "source": [
    "# Moving Files From CT_COVID to Covid19 Positive\n",
    "src_files = os.listdir(os.path.join(dataset_path, 'CT_COVID'))\n",
    "CT_COVID_files = 0\n",
    "for file_name in src_files:\n",
    "    full_file_name = os.path.join(dataset_path, 'CT_COVID', file_name)\n",
    "    \n",
    "    if os.path.isfile(full_file_name):\n",
    "        CT_COVID_files = CT_COVID_files + 1\n",
    "        shutil.move(full_file_name, os.path.join(dataset_path, 'Covid19 Positive'))\n",
    "        \n",
    "print(f'CT_COVID_files {CT_COVID_files}')\n"
   ]
  },
  {
   "cell_type": "code",
   "execution_count": 3,
   "metadata": {},
   "outputs": [],
   "source": [
    "# Deleting Folder CT_COVID\n",
    "\n",
    "dir_path = os.path.join(dataset_path, 'CT_COVID')\n",
    "\n",
    "try:\n",
    "    os.rmdir(dir_path)\n",
    "except OSError as e:\n",
    "    print(\"Error: %s : %s\" % (dir_path, e.strerror))"
   ]
  },
  {
   "cell_type": "code",
   "execution_count": 5,
   "metadata": {},
   "outputs": [
    {
     "name": "stdout",
     "output_type": "stream",
     "text": [
      "CT_NonCOVID 0\n"
     ]
    }
   ],
   "source": [
    "# Moving Files From CT_NonCOVID to Covid19 Positive\n",
    "src_files = os.listdir(os.path.join(dataset_path, 'CT_NonCOVID'))\n",
    "CT_NonCOVID_files = 0\n",
    "for file_name in src_files:\n",
    "    full_file_name = os.path.join(dataset_path, 'CT_NonCOVID', file_name)\n",
    "    \n",
    "    if os.path.isfile(full_file_name):\n",
    "        CT_NonCOVID_files = CT_NonCOVID_files + 1\n",
    "        shutil.move(full_file_name, os.path.join(dataset_path, 'Covid19 Negative'))\n",
    "        \n",
    "print(f'CT_NonCOVID {CT_NonCOVID_files}')\n"
   ]
  },
  {
   "cell_type": "code",
   "execution_count": 6,
   "metadata": {},
   "outputs": [],
   "source": [
    "# Deleting Folder CT_NonCOVID\n",
    "\n",
    "dir_path = os.path.join(dataset_path, 'CT_NonCOVID')\n",
    "\n",
    "try:\n",
    "    os.rmdir(dir_path)\n",
    "except OSError as e:\n",
    "    print(\"Error: %s : %s\" % (dir_path, e.strerror))"
   ]
  },
  {
   "cell_type": "code",
   "execution_count": null,
   "metadata": {},
   "outputs": [],
   "source": []
  }
 ],
 "metadata": {
  "kernelspec": {
   "display_name": "Python 3",
   "language": "python",
   "name": "python3"
  },
  "language_info": {
   "codemirror_mode": {
    "name": "ipython",
    "version": 3
   },
   "file_extension": ".py",
   "mimetype": "text/x-python",
   "name": "python",
   "nbconvert_exporter": "python",
   "pygments_lexer": "ipython3",
   "version": "3.7.9"
  }
 },
 "nbformat": 4,
 "nbformat_minor": 4
}
